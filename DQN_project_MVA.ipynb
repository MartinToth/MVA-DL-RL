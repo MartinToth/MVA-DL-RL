{
 "cells": [
  {
   "cell_type": "markdown",
   "metadata": {},
   "source": [
    "**You may need to install [OpenCV](https://pypi.python.org/pypi/opencv-python) and [scikit-video](http://www.scikit-video.org/stable/).**"
   ]
  },
  {
   "cell_type": "code",
   "execution_count": 79,
   "metadata": {},
   "outputs": [],
   "source": [
    "import keras\n",
    "import numpy as np\n",
    "import io\n",
    "import base64\n",
    "from IPython.display import HTML\n",
    "import skvideo.io\n",
    "import cv2\n",
    "import json\n",
    "import random\n",
    "import tqdm\n",
    "\n",
    "from keras.models import Sequential,model_from_json\n",
    "from keras.layers.core import Dense,Flatten\n",
    "from keras.optimizers import sgd\n",
    "from keras.layers import Conv2D, MaxPooling2D, Activation, AveragePooling2D,Reshape,BatchNormalization"
   ]
  },
  {
   "cell_type": "markdown",
   "metadata": {},
   "source": [
    "# MiniProject on Deep Reinforcement Learning"
   ]
  },
  {
   "cell_type": "markdown",
   "metadata": {},
   "source": [
    "__Notations__: $E_p$ is the expectation under probability $p$. Please justify each of your answer and widely comment your code."
   ]
  },
  {
   "cell_type": "markdown",
   "metadata": {},
   "source": [
    "# Context"
   ]
  },
  {
   "cell_type": "markdown",
   "metadata": {},
   "source": [
    "In a reinforcement learning algorithm, we modelize each step $t$ as an action $a_t$ obtained from a state $s_t$, i.e. $\\{(a_{t},s_{t})_{t\\leq T}\\}$ having the Markov property. We consider a discount factor $\\gamma \\in [0,1]$ that ensures convergence. The goal is to find among all the policies $\\pi$, one that maximizes the expected reward:\n",
    "\n",
    "\\begin{equation*}\n",
    "R(\\pi)=\\sum_{t\\leq T}E_{p^{\\pi}}[\\gamma^t r(s_{t},a_{t})] \\> ,\n",
    "\\end{equation*}\n",
    "\n",
    "where: \n",
    "\\begin{equation*}p^{\\pi}(a_{0},a_{1},s_{1},...,a_{T},s_{T})=p(a_{0})\\prod_{t=1}^{T}\\pi(a_{t}|s_{t})p(s_{t+1}|s_{t},a_{t}) \\> .\n",
    "\\end{equation*}\n",
    "\n",
    "We note the $Q$-function:\n",
    "\n",
    "\\begin{equation*}Q^\\pi(s,a)=E_{p^{\\pi}}[\\sum_{t\\leq T}\\gamma^{t}r(s_{t},a_{t})|s_{0}=s,a_{0}=a] \\> .\n",
    "\\end{equation*}\n",
    "\n",
    "Thus, the optimal Q function is:\n",
    "\\begin{equation*}\n",
    "Q^*(s,a)=\\max_{\\pi}Q^\\pi(s,a) \\> .\n",
    "\\end{equation*}\n",
    "\n",
    "In this project, we will apply the deep reinforcement learning techniques to a simple game: an agent will have to learn from scratch a policy that will permit it maximizing a reward."
   ]
  },
  {
   "cell_type": "markdown",
   "metadata": {},
   "source": [
    "## The environment, the agent and the game"
   ]
  },
  {
   "cell_type": "markdown",
   "metadata": {},
   "source": [
    "### The environment"
   ]
  },
  {
   "cell_type": "markdown",
   "metadata": {},
   "source": [
    "```Environment``` is an abstract class that represents the states, rewards, and actions to obtain the new state."
   ]
  },
  {
   "cell_type": "code",
   "execution_count": 3,
   "metadata": {},
   "outputs": [],
   "source": [
    "class Environment(object):\n",
    "    def __init__(self):\n",
    "        pass\n",
    "\n",
    "    def act(self, act):\n",
    "        \"\"\"\n",
    "        One can act on the environment and obtain its reaction:\n",
    "        - the new state\n",
    "        - the reward of the new state\n",
    "        - should we continue the game?\n",
    "\n",
    "        :return: state, reward, game_over\n",
    "        \"\"\"\n",
    "        pass\n",
    "\n",
    "\n",
    "    def reset(self):\n",
    "        \"\"\"\n",
    "        Reinitialize the environment to a random state and returns\n",
    "        the original state\n",
    "\n",
    "        :return: state\n",
    "        \"\"\"\n",
    "        pass\n",
    "    \n",
    "    def draw(self):\n",
    "        \"\"\"\n",
    "        Visualize in the console or graphically the current state\n",
    "        \"\"\"\n",
    "        pass"
   ]
  },
  {
   "cell_type": "markdown",
   "metadata": {},
   "source": [
    "The method ```act``` allows to act on the environment at a given state $s_t$ (stored internally), via action $a_t$. The method will return the new state $s_{t+1}$, the reward $r(s_{t},a_{t})$ and determines if $t\\leq T$ (*game_over*).\n",
    "\n",
    "The method ```reset``` simply reinitializes the environment to a random state $s_0$.\n",
    "\n",
    "The method ```draw``` displays the current state $s_t$ (this is useful to check the behavior of the Agent).\n",
    "\n",
    "We modelize $s_t$ as a tensor, while $a_t$ is an integer."
   ]
  },
  {
   "cell_type": "markdown",
   "metadata": {},
   "source": [
    "### The Agent"
   ]
  },
  {
   "cell_type": "markdown",
   "metadata": {},
   "source": [
    "The goal of the ```Agent``` is to interact with the ```Environment``` by proposing actions $a_t$ obtained from a given state $s_t$ to attempt to maximize its __reward__ $r(s_t,a_t)$. We propose the following abstract class:"
   ]
  },
  {
   "cell_type": "code",
   "execution_count": 4,
   "metadata": {},
   "outputs": [],
   "source": [
    "class Agent(object):\n",
    "    def __init__(self, epsilon=0.1, n_action=4):\n",
    "        self.epsilon = epsilon\n",
    "        self.n_action = n_action\n",
    "    \n",
    "    def set_epsilon(self,e):\n",
    "        self.epsilon = e\n",
    "\n",
    "    def act(self,s,train=True):\n",
    "        \"\"\" This function should return the next action to do:\n",
    "        an integer between 0 and 4 (not included) with a random exploration of epsilon\"\"\"\n",
    "        if train:\n",
    "            if np.random.rand() <= self.epsilon:\n",
    "                a = np.random.randint(0, self.n_action, size=1)[0]\n",
    "            else:\n",
    "                a = self.learned_act(s)\n",
    "        else: # in some cases, this can improve the performance.. remove it if poor performances\n",
    "            a = self.learned_act(s)\n",
    "\n",
    "        return a\n",
    "\n",
    "    def learned_act(self,s):\n",
    "        \"\"\" Act via the policy of the agent, from a given state s\n",
    "        it proposes an action a\"\"\"\n",
    "        pass\n",
    "\n",
    "    def reinforce(self, s, n_s, a, r, game_over_):\n",
    "        \"\"\" This function is the core of the learning algorithm. \n",
    "        It takes as an input the current state s_, the next state n_s_\n",
    "        the action a_ used to move from s_ to n_s_ and the reward r_.\n",
    "        \n",
    "        Its goal is to learn a policy.\n",
    "        \"\"\"\n",
    "        pass\n",
    "\n",
    "    def save(self):\n",
    "        \"\"\" This function returns basic stats if applicable: the\n",
    "        loss and/or the model\"\"\"\n",
    "        pass\n",
    "\n",
    "    def load(self):\n",
    "        \"\"\" This function allows to restore a model\"\"\"\n",
    "        pass"
   ]
  },
  {
   "cell_type": "markdown",
   "metadata": {},
   "source": [
    "***\n",
    "__Question 1__:\n",
    "Explain the function act. Why is ```epsilon``` essential?"
   ]
  },
  {
   "cell_type": "markdown",
   "metadata": {},
   "source": [
    "In the function act, we either :\n",
    "- sample the action $a_t$ under our given policy with probability $1-\\epsilon$\n",
    "- chose a random action $a_t$ with probability $\\epsilon$\n",
    "\n",
    "The goal of this method is to ensure that the Agent will continue to explore the environment through the whole training whatever policy training method we chose. Thus the choice of $\\epsilon$ is essential. It will dictate how likely the Agent will follow the training method we implement."
   ]
  },
  {
   "cell_type": "markdown",
   "metadata": {},
   "source": [
    "***\n",
    "### The Game"
   ]
  },
  {
   "cell_type": "markdown",
   "metadata": {},
   "source": [
    "The ```Agent``` and the ```Environment``` work in an interlaced way as in the following (take some time to understand this code as it is the core of the project)\n",
    "\n",
    "```python\n",
    "\n",
    "epoch = 300\n",
    "env = Environment()\n",
    "agent = Agent()\n",
    "\n",
    "\n",
    "# Number of won games\n",
    "score = 0\n",
    "loss = 0\n",
    "\n",
    "\n",
    "for e in range(epoch):\n",
    "    # At each epoch, we restart to a fresh game and get the initial state\n",
    "    state = env.reset()\n",
    "    # This assumes that the games will end\n",
    "    game_over = False\n",
    "\n",
    "    win = 0\n",
    "    lose = 0\n",
    "    \n",
    "    while not game_over:\n",
    "        # The agent performs an action\n",
    "        action = agent.act(state)\n",
    "\n",
    "        # Apply an action to the environment, get the next state, the reward\n",
    "        # and if the games end\n",
    "        prev_state = state\n",
    "        state, reward, game_over = env.act(action)\n",
    "\n",
    "        # Update the counters\n",
    "        if reward > 0:\n",
    "            win = win + reward\n",
    "        if reward < 0:\n",
    "            lose = lose -reward\n",
    "\n",
    "        # Apply the reinforcement strategy\n",
    "        loss = agent.reinforce(prev_state, state,  action, reward, game_over)\n",
    "\n",
    "    # Save as a mp4\n",
    "    if e % 10 == 0:\n",
    "        env.draw(e)\n",
    "\n",
    "    # Update stats\n",
    "    score += win-lose\n",
    "\n",
    "    print(\"Epoch {:03d}/{:03d} | Loss {:.4f} | Win/lose count {}/{} ({})\"\n",
    "          .format(e, epoch, loss, win, lose, win-lose))\n",
    "    agent.save()\n",
    "```"
   ]
  },
  {
   "cell_type": "markdown",
   "metadata": {},
   "source": [
    "# The game, *eat cheese*"
   ]
  },
  {
   "cell_type": "markdown",
   "metadata": {},
   "source": [
    "A rat runs on an island and tries to eat as much as possible. The island is subdivided into $N\\times N$ cells, in which there are cheese (+0.5) and poisonous cells (-1). The rat has a visibility of 2 cells (thus it can see $5^2$ cells). The rat is given a time $T$ to accumulate as much food as possible. It can perform 4 actions: going up, down, left, right. \n",
    "\n",
    "The goal is to code an agent to solve this task that will learn by trial and error. We propose the following environment:"
   ]
  },
  {
   "cell_type": "code",
   "execution_count": 5,
   "metadata": {},
   "outputs": [],
   "source": [
    "class Environment(object):\n",
    "    def __init__(self, grid_size=10, max_time=500, temperature=0.1):\n",
    "        grid_size = grid_size+4\n",
    "        self.grid_size = grid_size\n",
    "        self.max_time = max_time\n",
    "        self.temperature = temperature\n",
    "\n",
    "        #board on which one plays\n",
    "        self.board = np.zeros((grid_size,grid_size))\n",
    "        self.position = np.zeros((grid_size,grid_size))\n",
    "\n",
    "        # coordinate of the cat\n",
    "        self.x = 0\n",
    "        self.y = 1\n",
    "\n",
    "        # self time\n",
    "        self.t = 0\n",
    "\n",
    "        self.scale=16\n",
    "\n",
    "        self.to_draw = np.zeros((max_time+2, grid_size*self.scale, grid_size*self.scale, 3))\n",
    "\n",
    "\n",
    "    def draw(self,e):\n",
    "        skvideo.io.vwrite(str(e) + '.mp4', self.to_draw)\n",
    "\n",
    "    def get_frame(self,t):\n",
    "        b = np.zeros((self.grid_size,self.grid_size,3))+128\n",
    "        b[self.board>0,0] = 256\n",
    "        b[self.board < 0, 2] = 256\n",
    "        b[self.x,self.y,:]=256\n",
    "        b[-2:,:,:]=0\n",
    "        b[:,-2:,:]=0\n",
    "        b[:2,:,:]=0\n",
    "        b[:,:2,:]=0\n",
    "        \n",
    "        b =  cv2.resize(b, None, fx=self.scale, fy=self.scale, interpolation=cv2.INTER_NEAREST)\n",
    "\n",
    "        self.to_draw[t,:,:,:]=b\n",
    "\n",
    "\n",
    "    def act(self, action):\n",
    "        \"\"\"This function returns the new state, reward and decides if the\n",
    "        game ends.\"\"\"\n",
    "\n",
    "        self.get_frame(int(self.t))\n",
    "\n",
    "        self.position = np.zeros((self.grid_size, self.grid_size))\n",
    "\n",
    "        self.position[0:2,:]= -1\n",
    "        self.position[:,0:2] = -1\n",
    "        self.position[-2:, :] = -1\n",
    "        self.position[-2:, :] = -1\n",
    "\n",
    "        self.position[self.x, self.y] = 1\n",
    "        if action == 0:\n",
    "            if self.x == self.grid_size-3:\n",
    "                self.x = self.x-1\n",
    "            else:\n",
    "                self.x = self.x + 1\n",
    "        elif action == 1:\n",
    "            if self.x == 2:\n",
    "                self.x = self.x+1\n",
    "            else:\n",
    "                self.x = self.x-1\n",
    "        elif action == 2:\n",
    "            if self.y == self.grid_size - 3:\n",
    "                self.y = self.y - 1\n",
    "            else:\n",
    "                self.y = self.y + 1\n",
    "        elif action == 3:\n",
    "            if self.y == 2:\n",
    "                self.y = self.y + 1\n",
    "            else:\n",
    "                self.y = self.y - 1\n",
    "        else:\n",
    "            RuntimeError('Error: action not recognized')\n",
    "\n",
    "        self.t = self.t + 1\n",
    "        reward = self.board[self.x, self.y]\n",
    "        self.board[self.x, self.y] = 0\n",
    "        game_over = self.t > self.max_time\n",
    "        state = np.concatenate((self.board.reshape(self.grid_size, self.grid_size,1),\n",
    "                        self.position.reshape(self.grid_size, self.grid_size,1)),axis=2)\n",
    "        state = state[self.x-2:self.x+3,self.y-2:self.y+3,:]\n",
    "\n",
    "        return state, reward, game_over\n",
    "\n",
    "    def reset(self):\n",
    "        \"\"\"This function resets the game and returns the initial state\"\"\"\n",
    "\n",
    "        self.x = np.random.randint(3, self.grid_size-3, size=1)[0]\n",
    "        self.y = np.random.randint(3, self.grid_size-3, size=1)[0]\n",
    "\n",
    "\n",
    "        bonus = 0.5*np.random.binomial(1,self.temperature,size=self.grid_size**2)\n",
    "        bonus = bonus.reshape(self.grid_size,self.grid_size)\n",
    "\n",
    "        malus = -1.0*np.random.binomial(1,self.temperature,size=self.grid_size**2)\n",
    "        malus = malus.reshape(self.grid_size, self.grid_size)\n",
    "\n",
    "        self.to_draw = np.zeros((self.max_time+2, self.grid_size*self.scale, self.grid_size*self.scale, 3))\n",
    "\n",
    "\n",
    "        malus[bonus>0]=0\n",
    "\n",
    "        self.board = bonus + malus\n",
    "\n",
    "        self.position = np.zeros((self.grid_size, self.grid_size))\n",
    "        self.position[0:2,:]= -1\n",
    "        self.position[:,0:2] = -1\n",
    "        self.position[-2:, :] = -1\n",
    "        self.position[-2:, :] = -1\n",
    "        self.board[self.x,self.y] = 0\n",
    "        self.t = 0\n",
    "\n",
    "        state = np.concatenate((\n",
    "                               self.board.reshape(self.grid_size, self.grid_size,1),\n",
    "                        self.position.reshape(self.grid_size, self.grid_size,1)),axis=2)\n",
    "\n",
    "        state = state[self.x - 2:self.x + 3, self.y - 2:self.y + 3, :]\n",
    "        return state"
   ]
  },
  {
   "cell_type": "markdown",
   "metadata": {},
   "source": [
    "The following elements are important because they correspond to the hyper parameters for this project:"
   ]
  },
  {
   "cell_type": "code",
   "execution_count": 6,
   "metadata": {},
   "outputs": [],
   "source": [
    "# parameters\n",
    "size = 13\n",
    "T=200\n",
    "temperature=0.3\n",
    "epochs_train=10 # set small when debugging\n",
    "epochs_test=5 # set small when debugging\n",
    "\n",
    "# display videos\n",
    "def display_videos(name):\n",
    "    video = io.open(name, 'r+b').read()\n",
    "    encoded = base64.b64encode(video)\n",
    "    return '''<video alt=\"test\" controls>\n",
    "                <source src=\"data:video/mp4;base64,{0}\" type=\"video/mp4\" />\n",
    "             </video>'''.format(encoded.decode('ascii'))"
   ]
  },
  {
   "cell_type": "markdown",
   "metadata": {},
   "source": [
    "__Question 2__ Explain the use of the arrays ```position``` and ```board```."
   ]
  },
  {
   "cell_type": "markdown",
   "metadata": {},
   "source": [
    "# Answer 2\n",
    "The array board contains informations about the bonus / malus available\n",
    "The array position contains our position on the map and two cells padding on each side of the map. It is used to show the 25 cells seeable by the Agent without problem when he is near a border."
   ]
  },
  {
   "cell_type": "markdown",
   "metadata": {},
   "source": [
    "## Random Agent"
   ]
  },
  {
   "cell_type": "markdown",
   "metadata": {},
   "source": [
    "***\n",
    "__Question 3__ Implement a random Agent (only ```learned_act``` needs to be implemented):"
   ]
  },
  {
   "cell_type": "code",
   "execution_count": 7,
   "metadata": {},
   "outputs": [],
   "source": [
    "class RandomAgent(Agent):\n",
    "    def __init__(self):\n",
    "        super(RandomAgent, self).__init__()\n",
    "        pass\n",
    "\n",
    "    def learned_act(self, s):\n",
    "        return np.random.randint(4)"
   ]
  },
  {
   "cell_type": "markdown",
   "metadata": {},
   "source": [
    "***\n",
    "***\n",
    "__Question 4__ Visualize the game moves. You need to fill in the following function for the evaluation:"
   ]
  },
  {
   "cell_type": "code",
   "execution_count": 75,
   "metadata": {},
   "outputs": [],
   "source": [
    "def test(agent,env,epochs,prefix=''):\n",
    "    # Number of won games\n",
    "    score = 0\n",
    "        \n",
    "    for e in range(epochs):\n",
    "        \n",
    "\n",
    "        state = env.reset()\n",
    "        # This assumes that the games will end\n",
    "        game_over = False\n",
    "\n",
    "        win = 0\n",
    "        lose = 0\n",
    "\n",
    "        while not game_over:\n",
    "            # The agent performs an action\n",
    "            action = agent.act(state)\n",
    "            \n",
    "            # Apply an action to the environment, get the next state, the reward\n",
    "            # and if the games end\n",
    "            prev_state = state\n",
    "            state, reward, game_over = env.act(action)\n",
    "            # Update the counters\n",
    "            if reward > 0:\n",
    "                win = win + reward\n",
    "            if reward < 0:\n",
    "                lose = lose -reward\n",
    "\n",
    "            # Apply the reinforcement strategy\n",
    "            loss = agent.reinforce(prev_state, state,  action, reward, game_over)\n",
    "\n",
    "        \n",
    "        \n",
    "        # Save as a mp4\n",
    "        env.draw(prefix+str(e))\n",
    "\n",
    "        # Update stats\n",
    "        score = score + win-lose\n",
    "\n",
    "        print(\"Win/lose count {}/{}. Average score ({})\"\n",
    "              .format(win, lose, score/(1+e)))\n",
    "    print('Final score: '+str(score/epochs))\n",
    "    ## adding a return statement to get the final score\n",
    "    return score/epochs"
   ]
  },
  {
   "cell_type": "code",
   "execution_count": 9,
   "metadata": {},
   "outputs": [
    {
     "name": "stdout",
     "output_type": "stream",
     "text": [
      "Win/lose count 9.5/8.0. Average score (1.5)\n",
      "Win/lose count 12.5/12.0. Average score (1.0)\n",
      "Win/lose count 13.0/20.0. Average score (-1.6666666666666667)\n",
      "Win/lose count 12.0/14.0. Average score (-1.75)\n",
      "Win/lose count 9.0/12.0. Average score (-2.0)\n",
      "Final score: -2.0\n"
     ]
    },
    {
     "data": {
      "text/html": [
       "<video alt=\"test\" controls>\n",
       "                <source src=\"data:video/mp4;base64,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\" type=\"video/mp4\" />\n",
       "             </video>"
      ],
      "text/plain": [
       "<IPython.core.display.HTML object>"
      ]
     },
     "execution_count": 9,
     "metadata": {},
     "output_type": "execute_result"
    }
   ],
   "source": [
    "# Initialize the game\n",
    "env = Environment(grid_size=size, max_time=T,temperature=temperature)\n",
    "\n",
    "# Initialize the agent!\n",
    "agent = RandomAgent()\n",
    "\n",
    "test(agent,env,epochs_test,prefix='random')\n",
    "HTML(display_videos('random0.mp4'))"
   ]
  },
  {
   "cell_type": "markdown",
   "metadata": {},
   "source": [
    "***\n",
    "## DQN"
   ]
  },
  {
   "cell_type": "markdown",
   "metadata": {},
   "source": [
    "Let us assume here that $T=\\infty$.\n",
    "\n",
    "***\n",
    "__Question 5__ Let $\\pi$ be a policy, show that:\n",
    "\n",
    "\\begin{equation*}\n",
    "Q^{\\pi}(s,a)=E_{(s',a')\\sim p(.|s,a)}[r(s,a)+\\gamma Q^{\\pi}(s',a')]\n",
    "\\end{equation*}\n",
    "\n",
    "Then, show that for the optimal policy $\\pi^*$ (we assume its existence), the following holds: \n",
    "\n",
    "\\begin{equation*}\n",
    "Q^{*}(s,a)=E_{s'\\sim \\pi^*(.|s,a)}[r(s,a)+\\gamma\\max_{a'}Q^{*}(s',a')].\n",
    "\\end{equation*}\n",
    "Finally, deduce that a plausible objective is:\n",
    "\n",
    "\\begin{equation*}\n",
    "\\mathcal{L}(\\theta)=E_{s' \\sim \\pi^*(.|s,a)}\\Vert r+\\gamma\\max_{a}Q(s',a,\\theta)-Q(s,a,\\theta)\\Vert^{2}.\n",
    "\\end{equation*}\n",
    "\n",
    "\n"
   ]
  },
  {
   "cell_type": "markdown",
   "metadata": {},
   "source": [
    "## Answer 5 :\n",
    "By definition :\n",
    "$$ Q^\\pi(s,a)=E_{p^{\\pi}}[\\sum_{t}\\gamma^{t}r(s_{t},a_{t})|s_{0}=s,a_{0}=a] $$\n",
    "\n",
    "$$ Q^\\pi(s,a)=E_{p^{\\pi}}[\\sum_{t \\geq 1}\\gamma^{t}r(s_{t},a_{t}) + r(s_0,a_0)|s_{0}=s,a_{0}=a] $$\n",
    "\n",
    "$$ Q^\\pi(s,a)=E_{p^{\\pi}}[\\gamma\\sum_{t \\geq 1}\\gamma^{t-1}r(s_{t},a_{t}) + r(s_0,a_0)|s_{0}=s,a_{0}=a] $$\n",
    "\n",
    "$$ Q^\\pi(s,a)= \\gamma E_{p^{\\pi}}[\\sum_{t \\geq 0}\\gamma^{t}r(s_{t+1},a_{t+1}) |s_{0}=s,a_{0}=a]  + r(s,a) $$\n",
    "\n",
    "So by definition of the State-action value fonction : \n",
    "$$Q^{\\pi}(s,a)=E_{(s',a')\\sim p(.|s,a)}[r(s,a)+\\gamma Q^{\\pi}(s',a')] $$\n",
    "\n",
    "Moreover : \n",
    "$$Q^{\\pi^*}(s,a)=E_{(s',a')\\sim \\pi^*(.|s,a)}[r(s,a)+\\gamma Q^{\\pi^*}(s',a')] $$\n",
    "\n"
   ]
  },
  {
   "cell_type": "markdown",
   "metadata": {},
   "source": [
    "***\n",
    "The DQN-learning algorithm relies on these derivations to train the parameters $\\theta$ of a Deep Neural Network:\n",
    "\n",
    "1. At the state $s_t$, select the action $a_t$ with best reward using $Q_t$ and store the results;\n",
    "\n",
    "2. Obtain the new state $s_{t+1}$ from the environment $p$;\n",
    "\n",
    "3. Store $(s_t,a_t,s_{t+1})$;\n",
    "\n",
    "4. Obtain $Q_{t+1}$ by minimizing  $\\mathcal{L}$ from a recovered batch from the previously stored results.\n",
    "\n",
    "***\n",
    "__Question 6__ Implement the class ```Memory``` that stores moves (in a replay buffer) via ```remember``` and provides a ```random_access``` to these. Specify a maximum memory size to avoid side effects. You can for example use a ```list()``` and set by default ```max_memory=100```."
   ]
  },
  {
   "cell_type": "code",
   "execution_count": 62,
   "metadata": {},
   "outputs": [],
   "source": [
    "class Memory(object):\n",
    "    def __init__(self, max_memory=100):\n",
    "        self.max_memory = max_memory\n",
    "        self.memory = list()\n",
    "        self.position = 0\n",
    "\n",
    "    def remember(self, m):\n",
    "        #we append the move if the memory is not full\n",
    "        if len(self.memory) < self.max_memory : \n",
    "            self.memory.append(None)\n",
    "        self.memory[self.position] = m\n",
    "        self.position = (self.position +1 )% self.max_memory\n",
    "\n",
    "    def random_access(self):\n",
    "        if len(self.memory) == 1:\n",
    "            return self.memory[0]\n",
    "        else:\n",
    "            return self.memory[np.random.randint(0,len(self.memory)-1)]\n",
    "        "
   ]
  },
  {
   "cell_type": "markdown",
   "metadata": {},
   "source": [
    "***\n",
    "The pipeline we will use for training is given below:"
   ]
  },
  {
   "cell_type": "code",
   "execution_count": 59,
   "metadata": {},
   "outputs": [],
   "source": [
    "def train(agent,env,epoch,prefix=''):\n",
    "    # Number of won games\n",
    "    score = 0\n",
    "    loss = 0\n",
    "\n",
    "    for e in range(epoch):\n",
    "        # At each epoch, we restart to a fresh game and get the initial state\n",
    "        state = env.reset()\n",
    "        # This assumes that the games will terminate\n",
    "        game_over = False\n",
    "\n",
    "        win = 0\n",
    "        lose = 0\n",
    "\n",
    "        while not game_over:\n",
    "            # The agent performs an action\n",
    "            action = agent.act(state)\n",
    "\n",
    "            # Apply an action to the environment, get the next state, the reward\n",
    "            # and if the games end\n",
    "            prev_state = state\n",
    "            state, reward, game_over = env.act(action)\n",
    "\n",
    "            # Update the counters\n",
    "            if reward > 0:\n",
    "                win = win + reward\n",
    "            if reward < 0:\n",
    "                lose = lose -reward\n",
    "\n",
    "            # Apply the reinforcement strategy\n",
    "            loss = agent.reinforce(prev_state, state,  action, reward, game_over)\n",
    "\n",
    "        # Save as a mp4\n",
    "        if e % 10 == 0:\n",
    "            env.draw(prefix+str(e))\n",
    "\n",
    "        # Update stats\n",
    "        score += win-lose\n",
    "\n",
    "        print(\"Epoch {:03d}/{:03d} | Loss {:.4f} | Win/lose count {}/{} ({})\"\n",
    "              .format(e, epoch, loss, win, lose, win-lose))\n",
    "        agent.save(name_weights=prefix+'model.h5',name_model=prefix+'model.json')"
   ]
  },
  {
   "cell_type": "markdown",
   "metadata": {},
   "source": [
    "***\n",
    "__Question 7__ Implement the DQN training algorithm using a cascade of fully connected layers. You can use different learning rate, batch size or memory size parameters. In particular, the loss might oscillate while the player will start to win the games. You have to find a good criterium."
   ]
  },
  {
   "cell_type": "code",
   "execution_count": 63,
   "metadata": {},
   "outputs": [],
   "source": [
    "class DQN(Agent):\n",
    "    def __init__(self, grid_size,  epsilon = 0.1, memory_size=100, batch_size = 16,n_state=2):\n",
    "        super(DQN, self).__init__(epsilon = epsilon)\n",
    "\n",
    "        # Discount for Q learning\n",
    "        self.discount = 0.99\n",
    "        \n",
    "        self.grid_size = grid_size\n",
    "        \n",
    "        # number of state\n",
    "        self.n_state = n_state\n",
    "\n",
    "        # Memory\n",
    "        self.memory = Memory(memory_size)\n",
    "        \n",
    "        # Batch size when learning\n",
    "        self.batch_size = batch_size\n",
    "\n",
    "    def learned_act(self, s):\n",
    "        actions_returns = self.model.predict(np.expand_dims(s,0))\n",
    "        return np.argmax(actions_returns)\n",
    "\n",
    "    def reinforce(self, s_, n_s_, a_, r_, game_over_):\n",
    "        # Two steps: first memorize the states, second learn from the pool\n",
    "\n",
    "        self.memory.remember([s_, n_s_, a_, r_, game_over_])\n",
    "        \n",
    "        input_states = np.zeros((self.batch_size, 5,5,self.n_state))\n",
    "        target_q = np.zeros((self.batch_size, 4))\n",
    "        \n",
    "        for i in range(self.batch_size):\n",
    "            ## first we get a sample\n",
    "            s, n_s , a , r , game_over_ = self.memory.random_access()\n",
    "            input_states[i] = s\n",
    "            target_q[i] = self.model.predict(np.expand_dims(n_s,0))\n",
    "            if game_over_:\n",
    "                target_q[i][a] = r\n",
    "            else:\n",
    "                target_q[i][a] = r + self.discount*np.amax(self.model.predict(np.expand_dims(n_s,0)))\n",
    "                \n",
    "        \n",
    "        \n",
    "        # HINT: Clip the target to avoid exploiding gradients.. -- clipping is a bit tighter\n",
    "        target_q = np.clip(target_q, -3, 3)\n",
    "\n",
    "        l = self.model.train_on_batch(input_states, target_q)\n",
    "\n",
    "\n",
    "        return l\n",
    "\n",
    "    def save(self,name_weights='model.h5',name_model='model.json'):\n",
    "        self.model.save_weights(name_weights, overwrite=True)\n",
    "        with open(name_model, \"w\") as outfile:\n",
    "            json.dump(self.model.to_json(), outfile)\n",
    "            \n",
    "    def load(self,name_weights='model.h5',name_model='model.json'):\n",
    "        with open(name_model, \"r\") as jfile:\n",
    "            model = model_from_json(json.load(jfile))\n",
    "        model.load_weights(name_weights)\n",
    "        model.compile(\"sgd\", \"mse\")\n",
    "        self.model = model\n",
    "\n",
    "            \n",
    "class DQN_FC(DQN):\n",
    "    def __init__(self, *args, lr=0.1,**kwargs):\n",
    "        super(DQN_FC, self).__init__( *args,**kwargs)\n",
    "        \n",
    "        # NN Model\n",
    "        model = Sequential([\n",
    "        Flatten(),\n",
    "        Dense(128, input_shape=(50,)),\n",
    "        Activation('relu'),\n",
    "        Dense(256),\n",
    "        Activation('relu'),\n",
    "        Dense(4),\n",
    "        Activation('relu'),\n",
    "                ])\n",
    "        \n",
    "\n",
    "        \n",
    "        model.compile(sgd(lr=lr, decay=1e-4, momentum=0.0), \"mse\")\n",
    "        self.model = model\n",
    "        "
   ]
  },
  {
   "cell_type": "code",
   "execution_count": 71,
   "metadata": {},
   "outputs": [
    {
     "data": {
      "text/plain": [
       "(1, 48)"
      ]
     },
     "execution_count": 71,
     "metadata": {},
     "output_type": "execute_result"
    }
   ],
   "source": [
    "model = Sequential()\n",
    "model.add(Conv2D(24,(3,3),input_shape=(5,5,2)))\n",
    "model.add(Activation('relu'))\n",
    "model.add(Conv2D(48,(3,3)))\n",
    "model.add(Activation('relu'))\n",
    "model.add(Flatten())\n",
    "        \n",
    "x = np.random.randint(10,size=(1,5,5,2))\n",
    "\n",
    "model.predict(x).shape"
   ]
  },
  {
   "cell_type": "code",
   "execution_count": 65,
   "metadata": {},
   "outputs": [
    {
     "name": "stdout",
     "output_type": "stream",
     "text": [
      "Epoch 000/010 | Loss 0.0043 | Win/lose count 3.0/2.0 (1.0)\n",
      "Epoch 001/010 | Loss 0.0022 | Win/lose count 1.0/4.0 (-3.0)\n",
      "Epoch 002/010 | Loss 0.0309 | Win/lose count 3.0/3.0 (0.0)\n",
      "Epoch 003/010 | Loss 0.0192 | Win/lose count 3.0/5.0 (-2.0)\n",
      "Epoch 004/010 | Loss 0.0243 | Win/lose count 2.5/3.0 (-0.5)\n",
      "Epoch 005/010 | Loss 0.0056 | Win/lose count 3.5/1.0 (2.5)\n",
      "Epoch 006/010 | Loss 0.0029 | Win/lose count 1.5/2.0 (-0.5)\n",
      "Epoch 007/010 | Loss 0.0278 | Win/lose count 2.0/1.0 (1.0)\n",
      "Epoch 008/010 | Loss 0.0241 | Win/lose count 6.5/2.0 (4.5)\n",
      "Epoch 009/010 | Loss 0.0724 | Win/lose count 2.5/1.0 (1.5)\n"
     ]
    },
    {
     "data": {
      "text/html": [
       "<video alt=\"test\" controls>\n",
       "                <source src=\"data:video/mp4;base64,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\" type=\"video/mp4\" />\n",
       "             </video>"
      ],
      "text/plain": [
       "<IPython.core.display.HTML object>"
      ]
     },
     "execution_count": 65,
     "metadata": {},
     "output_type": "execute_result"
    }
   ],
   "source": [
    "env = Environment(grid_size=size, max_time=T, temperature=0.3)\n",
    "agent = DQN_FC(size, lr=.1, epsilon = 0.1, memory_size=2000, batch_size = 32)\n",
    "train(agent, env, epochs_train, prefix='fc_train')\n",
    "HTML(display_videos('fc_train0.mp4'))"
   ]
  },
  {
   "cell_type": "markdown",
   "metadata": {},
   "source": [
    "***\n",
    "***\n",
    "__Question 8__ Implement the DQN training algorithm using a CNN (for example, 2 convolutional layers and one final fully connected layer)."
   ]
  },
  {
   "cell_type": "code",
   "execution_count": 86,
   "metadata": {},
   "outputs": [],
   "source": [
    "class DQN_CNN(DQN):\n",
    "    def __init__(self, *args,lr=0.1,**kwargs):\n",
    "        super(DQN_CNN, self).__init__(*args,**kwargs)\n",
    "        \n",
    "        model = Sequential()\n",
    "        model.add(Conv2D(24,(3,3),input_shape=(5,5,self.n_state)))\n",
    "        model.add(Activation('relu'))\n",
    "        model.add(Conv2D(48,(3,3)))\n",
    "        model.add(Activation('relu'))\n",
    "        model.add(Flatten())\n",
    "        model.add(Dense(4))\n",
    "        \n",
    "        model.compile(sgd(lr=lr, decay=1e-4, momentum=0.0), \"mse\")\n",
    "        self.model = model"
   ]
  },
  {
   "cell_type": "code",
   "execution_count": 87,
   "metadata": {},
   "outputs": [
    {
     "name": "stdout",
     "output_type": "stream",
     "text": [
      "Epoch 000/040 | Loss 0.0099 | Win/lose count 3.5/5.0 (-1.5)\n",
      "Epoch 001/040 | Loss 0.0024 | Win/lose count 3.5/7.0 (-3.5)\n"
     ]
    },
    {
     "ename": "KeyboardInterrupt",
     "evalue": "",
     "output_type": "error",
     "traceback": [
      "\u001b[0;31m---------------------------------------------------------------------------\u001b[0m",
      "\u001b[0;31mKeyboardInterrupt\u001b[0m                         Traceback (most recent call last)",
      "\u001b[0;32m<ipython-input-87-e8bb5b9e4a62>\u001b[0m in \u001b[0;36m<module>\u001b[0;34m\u001b[0m\n\u001b[1;32m      1\u001b[0m \u001b[0menv\u001b[0m \u001b[0;34m=\u001b[0m \u001b[0mEnvironment\u001b[0m\u001b[0;34m(\u001b[0m\u001b[0mgrid_size\u001b[0m\u001b[0;34m=\u001b[0m\u001b[0msize\u001b[0m\u001b[0;34m,\u001b[0m \u001b[0mmax_time\u001b[0m\u001b[0;34m=\u001b[0m\u001b[0mT\u001b[0m\u001b[0;34m,\u001b[0m \u001b[0mtemperature\u001b[0m\u001b[0;34m=\u001b[0m\u001b[0;36m0.3\u001b[0m\u001b[0;34m)\u001b[0m\u001b[0;34m\u001b[0m\u001b[0;34m\u001b[0m\u001b[0m\n\u001b[1;32m      2\u001b[0m \u001b[0magent\u001b[0m \u001b[0;34m=\u001b[0m \u001b[0mDQN_CNN\u001b[0m\u001b[0;34m(\u001b[0m\u001b[0msize\u001b[0m\u001b[0;34m,\u001b[0m \u001b[0mlr\u001b[0m\u001b[0;34m=\u001b[0m\u001b[0;36m.1\u001b[0m\u001b[0;34m,\u001b[0m \u001b[0mepsilon\u001b[0m \u001b[0;34m=\u001b[0m \u001b[0;36m0.1\u001b[0m\u001b[0;34m,\u001b[0m \u001b[0mmemory_size\u001b[0m\u001b[0;34m=\u001b[0m\u001b[0;36m2000\u001b[0m\u001b[0;34m,\u001b[0m \u001b[0mbatch_size\u001b[0m \u001b[0;34m=\u001b[0m \u001b[0;36m32\u001b[0m\u001b[0;34m)\u001b[0m\u001b[0;34m\u001b[0m\u001b[0;34m\u001b[0m\u001b[0m\n\u001b[0;32m----> 3\u001b[0;31m \u001b[0mtrain\u001b[0m\u001b[0;34m(\u001b[0m\u001b[0magent\u001b[0m\u001b[0;34m,\u001b[0m\u001b[0menv\u001b[0m\u001b[0;34m,\u001b[0m\u001b[0mepochs_train\u001b[0m\u001b[0;34m,\u001b[0m\u001b[0mprefix\u001b[0m\u001b[0;34m=\u001b[0m\u001b[0;34m'cnn_train'\u001b[0m\u001b[0;34m)\u001b[0m\u001b[0;34m\u001b[0m\u001b[0;34m\u001b[0m\u001b[0m\n\u001b[0m\u001b[1;32m      4\u001b[0m \u001b[0mHTML\u001b[0m\u001b[0;34m(\u001b[0m\u001b[0mdisplay_videos\u001b[0m\u001b[0;34m(\u001b[0m\u001b[0;34m'cnn_train0.mp4'\u001b[0m\u001b[0;34m)\u001b[0m\u001b[0;34m)\u001b[0m\u001b[0;34m\u001b[0m\u001b[0;34m\u001b[0m\u001b[0m\n",
      "\u001b[0;32m<ipython-input-59-24317fb268aa>\u001b[0m in \u001b[0;36mtrain\u001b[0;34m(agent, env, epoch, prefix)\u001b[0m\n\u001b[1;32m     20\u001b[0m             \u001b[0;31m# and if the games end\u001b[0m\u001b[0;34m\u001b[0m\u001b[0;34m\u001b[0m\u001b[0;34m\u001b[0m\u001b[0m\n\u001b[1;32m     21\u001b[0m             \u001b[0mprev_state\u001b[0m \u001b[0;34m=\u001b[0m \u001b[0mstate\u001b[0m\u001b[0;34m\u001b[0m\u001b[0;34m\u001b[0m\u001b[0m\n\u001b[0;32m---> 22\u001b[0;31m             \u001b[0mstate\u001b[0m\u001b[0;34m,\u001b[0m \u001b[0mreward\u001b[0m\u001b[0;34m,\u001b[0m \u001b[0mgame_over\u001b[0m \u001b[0;34m=\u001b[0m \u001b[0menv\u001b[0m\u001b[0;34m.\u001b[0m\u001b[0mact\u001b[0m\u001b[0;34m(\u001b[0m\u001b[0maction\u001b[0m\u001b[0;34m)\u001b[0m\u001b[0;34m\u001b[0m\u001b[0;34m\u001b[0m\u001b[0m\n\u001b[0m\u001b[1;32m     23\u001b[0m \u001b[0;34m\u001b[0m\u001b[0m\n\u001b[1;32m     24\u001b[0m             \u001b[0;31m# Update the counters\u001b[0m\u001b[0;34m\u001b[0m\u001b[0;34m\u001b[0m\u001b[0;34m\u001b[0m\u001b[0m\n",
      "\u001b[0;32m<ipython-input-5-4651a46e1cd4>\u001b[0m in \u001b[0;36mact\u001b[0;34m(self, action)\u001b[0m\n\u001b[1;32m     44\u001b[0m         game ends.\"\"\"\n\u001b[1;32m     45\u001b[0m \u001b[0;34m\u001b[0m\u001b[0m\n\u001b[0;32m---> 46\u001b[0;31m         \u001b[0mself\u001b[0m\u001b[0;34m.\u001b[0m\u001b[0mget_frame\u001b[0m\u001b[0;34m(\u001b[0m\u001b[0mint\u001b[0m\u001b[0;34m(\u001b[0m\u001b[0mself\u001b[0m\u001b[0;34m.\u001b[0m\u001b[0mt\u001b[0m\u001b[0;34m)\u001b[0m\u001b[0;34m)\u001b[0m\u001b[0;34m\u001b[0m\u001b[0;34m\u001b[0m\u001b[0m\n\u001b[0m\u001b[1;32m     47\u001b[0m \u001b[0;34m\u001b[0m\u001b[0m\n\u001b[1;32m     48\u001b[0m         \u001b[0mself\u001b[0m\u001b[0;34m.\u001b[0m\u001b[0mposition\u001b[0m \u001b[0;34m=\u001b[0m \u001b[0mnp\u001b[0m\u001b[0;34m.\u001b[0m\u001b[0mzeros\u001b[0m\u001b[0;34m(\u001b[0m\u001b[0;34m(\u001b[0m\u001b[0mself\u001b[0m\u001b[0;34m.\u001b[0m\u001b[0mgrid_size\u001b[0m\u001b[0;34m,\u001b[0m \u001b[0mself\u001b[0m\u001b[0;34m.\u001b[0m\u001b[0mgrid_size\u001b[0m\u001b[0;34m)\u001b[0m\u001b[0;34m)\u001b[0m\u001b[0;34m\u001b[0m\u001b[0;34m\u001b[0m\u001b[0m\n",
      "\u001b[0;32m<ipython-input-5-4651a46e1cd4>\u001b[0m in \u001b[0;36mget_frame\u001b[0;34m(self, t)\u001b[0m\n\u001b[1;32m     37\u001b[0m         \u001b[0mb\u001b[0m \u001b[0;34m=\u001b[0m  \u001b[0mcv2\u001b[0m\u001b[0;34m.\u001b[0m\u001b[0mresize\u001b[0m\u001b[0;34m(\u001b[0m\u001b[0mb\u001b[0m\u001b[0;34m,\u001b[0m \u001b[0;32mNone\u001b[0m\u001b[0;34m,\u001b[0m \u001b[0mfx\u001b[0m\u001b[0;34m=\u001b[0m\u001b[0mself\u001b[0m\u001b[0;34m.\u001b[0m\u001b[0mscale\u001b[0m\u001b[0;34m,\u001b[0m \u001b[0mfy\u001b[0m\u001b[0;34m=\u001b[0m\u001b[0mself\u001b[0m\u001b[0;34m.\u001b[0m\u001b[0mscale\u001b[0m\u001b[0;34m,\u001b[0m \u001b[0minterpolation\u001b[0m\u001b[0;34m=\u001b[0m\u001b[0mcv2\u001b[0m\u001b[0;34m.\u001b[0m\u001b[0mINTER_NEAREST\u001b[0m\u001b[0;34m)\u001b[0m\u001b[0;34m\u001b[0m\u001b[0;34m\u001b[0m\u001b[0m\n\u001b[1;32m     38\u001b[0m \u001b[0;34m\u001b[0m\u001b[0m\n\u001b[0;32m---> 39\u001b[0;31m         \u001b[0mself\u001b[0m\u001b[0;34m.\u001b[0m\u001b[0mto_draw\u001b[0m\u001b[0;34m[\u001b[0m\u001b[0mt\u001b[0m\u001b[0;34m,\u001b[0m\u001b[0;34m:\u001b[0m\u001b[0;34m,\u001b[0m\u001b[0;34m:\u001b[0m\u001b[0;34m,\u001b[0m\u001b[0;34m:\u001b[0m\u001b[0;34m]\u001b[0m\u001b[0;34m=\u001b[0m\u001b[0mb\u001b[0m\u001b[0;34m\u001b[0m\u001b[0;34m\u001b[0m\u001b[0m\n\u001b[0m\u001b[1;32m     40\u001b[0m \u001b[0;34m\u001b[0m\u001b[0m\n\u001b[1;32m     41\u001b[0m \u001b[0;34m\u001b[0m\u001b[0m\n",
      "\u001b[0;31mKeyboardInterrupt\u001b[0m: "
     ]
    }
   ],
   "source": [
    "env = Environment(grid_size=size, max_time=T, temperature=0.3)\n",
    "agent = DQN_CNN(size, lr=.1, epsilon = 0.1, memory_size=2000, batch_size = 32)\n",
    "train(agent,env,epochs_train,prefix='cnn_train')\n",
    "HTML(display_videos('cnn_train0.mp4'))"
   ]
  },
  {
   "cell_type": "markdown",
   "metadata": {},
   "source": [
    "***\n",
    "***\n",
    "__Question 9__ Test both algorithms and compare their performances. Which issue(s) do you observe? Observe also different behaviors by changing the temperature."
   ]
  },
  {
   "cell_type": "code",
   "execution_count": 74,
   "metadata": {},
   "outputs": [
    {
     "name": "stdout",
     "output_type": "stream",
     "text": [
      "Test of the CNN\n",
      "Win/lose count 4.5/1.0. Average score (3.5)\n",
      "Win/lose count 2.0/5.0. Average score (0.25)\n",
      "Win/lose count 7.5/5.0. Average score (1.0)\n",
      "Win/lose count 5.5/5.0. Average score (0.875)\n",
      "Win/lose count 8.5/6.0. Average score (1.2)\n",
      "Final score: 1.2\n",
      "Test of the FC\n",
      "Win/lose count 1.5/4.0. Average score (-2.5)\n",
      "Win/lose count 2.0/3.0. Average score (-1.75)\n",
      "Win/lose count 4.5/7.0. Average score (-2.0)\n",
      "Win/lose count 4.5/3.0. Average score (-1.125)\n",
      "Win/lose count 2.0/4.0. Average score (-1.3)\n",
      "Final score: -1.3\n"
     ]
    }
   ],
   "source": [
    "env = Environment(grid_size=size, max_time=T,temperature=0.3)\n",
    "agent_cnn = DQN_CNN(size, lr=.1, epsilon = 0.1, memory_size=2000, batch_size = 32)\n",
    "agent_cnn.load(name_weights='cnn_trainmodel.h5',name_model='cnn_trainmodel.json')\n",
    "\n",
    "agent_fc = DQN_FC(size, lr=.1, epsilon = 0.1, memory_size=2000, batch_size = 32)\n",
    "agent_cnn.load(name_weights='fc_trainmodel.h5',name_model='fc_trainmodel.json')\n",
    "print('Test of the CNN')\n",
    "test(agent_cnn,env,epochs_test,prefix='cnn_test')\n",
    "print('Test of the FC')\n",
    "test(agent_fc,env,epochs_test,prefix='fc_test')"
   ]
  },
  {
   "cell_type": "code",
   "execution_count": 81,
   "metadata": {},
   "outputs": [
    {
     "name": "stderr",
     "output_type": "stream",
     "text": [
      "\r",
      "  0%|          | 0/10 [00:00<?, ?it/s]"
     ]
    },
    {
     "name": "stdout",
     "output_type": "stream",
     "text": [
      "Epoch 000/040 | Loss 0.0012 | Win/lose count 1.0/1.0 (0.0)\n",
      "Epoch 001/040 | Loss 0.0025 | Win/lose count 1.0/3.0 (-2.0)\n",
      "Epoch 002/040 | Loss 0.0010 | Win/lose count 0.5/2.0 (-1.5)\n",
      "Epoch 003/040 | Loss 0.0035 | Win/lose count 1.0/1.0 (0.0)\n",
      "Epoch 004/040 | Loss 0.0007 | Win/lose count 1.5/1.0 (0.5)\n",
      "Epoch 005/040 | Loss 0.0008 | Win/lose count 1.5/2.0 (-0.5)\n",
      "Epoch 006/040 | Loss 0.0008 | Win/lose count 1.5/1.0 (0.5)\n",
      "Epoch 007/040 | Loss 0.0043 | Win/lose count 2.5/0 (2.5)\n",
      "Epoch 008/040 | Loss 0.0028 | Win/lose count 2.0/0 (2.0)\n",
      "Epoch 009/040 | Loss 0.0006 | Win/lose count 0.5/1.0 (-0.5)\n",
      "Epoch 010/040 | Loss 0.0032 | Win/lose count 2.0/0 (2.0)\n",
      "Epoch 011/040 | Loss 0.0023 | Win/lose count 1.0/0 (1.0)\n",
      "Epoch 012/040 | Loss 0.0168 | Win/lose count 3.0/0 (3.0)\n",
      "Epoch 013/040 | Loss 0.0021 | Win/lose count 0.5/1.0 (-0.5)\n",
      "Epoch 014/040 | Loss 0.0018 | Win/lose count 1.5/2.0 (-0.5)\n",
      "Epoch 015/040 | Loss 0.0037 | Win/lose count 2.0/2.0 (0.0)\n",
      "Epoch 016/040 | Loss 0.0074 | Win/lose count 2.0/1.0 (1.0)\n",
      "Epoch 017/040 | Loss 0.0008 | Win/lose count 1.5/2.0 (-0.5)\n",
      "Epoch 018/040 | Loss 0.0083 | Win/lose count 1.0/0 (1.0)\n",
      "Epoch 019/040 | Loss 0.0073 | Win/lose count 3.5/3.0 (0.5)\n",
      "Epoch 020/040 | Loss 0.0078 | Win/lose count 1.5/0 (1.5)\n",
      "Epoch 021/040 | Loss 0.0515 | Win/lose count 2.0/2.0 (0.0)\n",
      "Epoch 022/040 | Loss 0.0683 | Win/lose count 2.5/0 (2.5)\n",
      "Epoch 023/040 | Loss 0.0046 | Win/lose count 2.0/2.0 (0.0)\n",
      "Epoch 024/040 | Loss 0.0007 | Win/lose count 1.0/0 (1.0)\n",
      "Epoch 025/040 | Loss 0.0008 | Win/lose count 3.5/0 (3.5)\n",
      "Epoch 026/040 | Loss 0.0033 | Win/lose count 3.0/3.0 (0.0)\n",
      "Epoch 027/040 | Loss 0.0013 | Win/lose count 4.0/1.0 (3.0)\n",
      "Epoch 028/040 | Loss 0.0013 | Win/lose count 4.5/1.0 (3.5)\n",
      "Epoch 029/040 | Loss 0.0027 | Win/lose count 2.0/3.0 (-1.0)\n",
      "Epoch 030/040 | Loss 0.0011 | Win/lose count 3.0/2.0 (1.0)\n",
      "Epoch 031/040 | Loss 0.0011 | Win/lose count 2.0/1.0 (1.0)\n",
      "Epoch 032/040 | Loss 0.0074 | Win/lose count 1.5/2.0 (-0.5)\n",
      "Epoch 033/040 | Loss 0.0015 | Win/lose count 2.0/2.0 (0.0)\n",
      "Epoch 034/040 | Loss 0.0038 | Win/lose count 4.0/2.0 (2.0)\n",
      "Epoch 035/040 | Loss 0.0017 | Win/lose count 4.0/2.0 (2.0)\n",
      "Epoch 036/040 | Loss 0.0035 | Win/lose count 2.5/3.0 (-0.5)\n",
      "Epoch 037/040 | Loss 0.0085 | Win/lose count 1.0/1.0 (0.0)\n",
      "Epoch 038/040 | Loss 0.0038 | Win/lose count 5.5/2.0 (3.5)\n",
      "Epoch 039/040 | Loss 0.0018 | Win/lose count 2.5/2.0 (0.5)\n",
      "Epoch 000/040 | Loss 0.0002 | Win/lose count 0/5.0 (-5.0)\n",
      "Epoch 001/040 | Loss 0.0077 | Win/lose count 1.0/1.0 (0.0)\n",
      "Epoch 002/040 | Loss 0.0000 | Win/lose count 0/0 (0)\n",
      "Epoch 003/040 | Loss 0.0000 | Win/lose count 0.5/2.0 (-1.5)\n",
      "Epoch 004/040 | Loss 0.0000 | Win/lose count 0/3.0 (-3.0)\n",
      "Epoch 005/040 | Loss 0.0000 | Win/lose count 0.5/0 (0.5)\n",
      "Epoch 006/040 | Loss 0.0000 | Win/lose count 0.5/1.0 (-0.5)\n",
      "Epoch 007/040 | Loss 0.0000 | Win/lose count 0.5/3.0 (-2.5)\n",
      "Epoch 008/040 | Loss 0.0000 | Win/lose count 1.0/3.0 (-2.0)\n",
      "Epoch 009/040 | Loss 0.0078 | Win/lose count 1.0/3.0 (-2.0)\n"
     ]
    },
    {
     "ename": "KeyboardInterrupt",
     "evalue": "",
     "output_type": "error",
     "traceback": [
      "\u001b[0;31m---------------------------------------------------------------------------\u001b[0m",
      "\u001b[0;31mKeyboardInterrupt\u001b[0m                         Traceback (most recent call last)",
      "\u001b[0;32m<ipython-input-81-74c3fd6bb90b>\u001b[0m in \u001b[0;36m<module>\u001b[0;34m\u001b[0m\n\u001b[1;32m      9\u001b[0m     \u001b[0magent_fc\u001b[0m \u001b[0;34m=\u001b[0m \u001b[0mDQN_FC\u001b[0m\u001b[0;34m(\u001b[0m\u001b[0msize\u001b[0m\u001b[0;34m,\u001b[0m \u001b[0mlr\u001b[0m\u001b[0;34m=\u001b[0m\u001b[0;36m.1\u001b[0m\u001b[0;34m,\u001b[0m \u001b[0mepsilon\u001b[0m \u001b[0;34m=\u001b[0m \u001b[0;36m0.1\u001b[0m\u001b[0;34m,\u001b[0m \u001b[0mmemory_size\u001b[0m\u001b[0;34m=\u001b[0m\u001b[0;36m2000\u001b[0m\u001b[0;34m,\u001b[0m \u001b[0mbatch_size\u001b[0m \u001b[0;34m=\u001b[0m \u001b[0;36m32\u001b[0m\u001b[0;34m)\u001b[0m\u001b[0;34m\u001b[0m\u001b[0;34m\u001b[0m\u001b[0m\n\u001b[1;32m     10\u001b[0m     \u001b[0mtrain\u001b[0m\u001b[0;34m(\u001b[0m\u001b[0magent_cnn\u001b[0m\u001b[0;34m,\u001b[0m\u001b[0menv\u001b[0m\u001b[0;34m,\u001b[0m\u001b[0mepochs_train\u001b[0m\u001b[0;34m,\u001b[0m\u001b[0mprefix\u001b[0m\u001b[0;34m=\u001b[0m\u001b[0;34m'cnn_train'\u001b[0m\u001b[0;34m+\u001b[0m\u001b[0mstr\u001b[0m\u001b[0;34m(\u001b[0m\u001b[0mtemp\u001b[0m\u001b[0;34m)\u001b[0m\u001b[0;34m)\u001b[0m\u001b[0;34m\u001b[0m\u001b[0;34m\u001b[0m\u001b[0m\n\u001b[0;32m---> 11\u001b[0;31m     \u001b[0mtrain\u001b[0m\u001b[0;34m(\u001b[0m\u001b[0magent_fc\u001b[0m\u001b[0;34m,\u001b[0m\u001b[0menv\u001b[0m\u001b[0;34m,\u001b[0m\u001b[0mepochs_train\u001b[0m\u001b[0;34m,\u001b[0m\u001b[0mprefix\u001b[0m\u001b[0;34m=\u001b[0m\u001b[0;34m'cnn_train'\u001b[0m\u001b[0;34m+\u001b[0m\u001b[0mstr\u001b[0m\u001b[0;34m(\u001b[0m\u001b[0mtemp\u001b[0m\u001b[0;34m)\u001b[0m\u001b[0;34m)\u001b[0m\u001b[0;34m\u001b[0m\u001b[0;34m\u001b[0m\u001b[0m\n\u001b[0m\u001b[1;32m     12\u001b[0m     \u001b[0mfinal_scores_FC\u001b[0m\u001b[0;34m.\u001b[0m\u001b[0mappend\u001b[0m\u001b[0;34m(\u001b[0m\u001b[0mtest\u001b[0m\u001b[0;34m(\u001b[0m\u001b[0magent_fc\u001b[0m\u001b[0;34m,\u001b[0m\u001b[0menv\u001b[0m\u001b[0;34m,\u001b[0m\u001b[0mepochs_test\u001b[0m\u001b[0;34m,\u001b[0m\u001b[0mprefix\u001b[0m\u001b[0;34m=\u001b[0m\u001b[0;34m'fc'\u001b[0m\u001b[0;34m+\u001b[0m\u001b[0mstr\u001b[0m\u001b[0;34m(\u001b[0m\u001b[0mtemp\u001b[0m\u001b[0;34m)\u001b[0m\u001b[0;34m)\u001b[0m\u001b[0;34m)\u001b[0m\u001b[0;34m\u001b[0m\u001b[0;34m\u001b[0m\u001b[0m\n\u001b[1;32m     13\u001b[0m     \u001b[0mfinal_scores_CNN\u001b[0m\u001b[0;34m.\u001b[0m\u001b[0mappend\u001b[0m\u001b[0;34m(\u001b[0m\u001b[0mtest\u001b[0m\u001b[0;34m(\u001b[0m\u001b[0magent_cnn\u001b[0m\u001b[0;34m,\u001b[0m\u001b[0menv\u001b[0m\u001b[0;34m,\u001b[0m\u001b[0mepochs_test\u001b[0m\u001b[0;34m,\u001b[0m\u001b[0mprefix\u001b[0m\u001b[0;34m=\u001b[0m\u001b[0;34m'ccn'\u001b[0m\u001b[0;34m+\u001b[0m\u001b[0mstr\u001b[0m\u001b[0;34m(\u001b[0m\u001b[0mtemp\u001b[0m\u001b[0;34m)\u001b[0m\u001b[0;34m)\u001b[0m\u001b[0;34m)\u001b[0m\u001b[0;34m\u001b[0m\u001b[0;34m\u001b[0m\u001b[0m\n",
      "\u001b[0;32m<ipython-input-59-24317fb268aa>\u001b[0m in \u001b[0;36mtrain\u001b[0;34m(agent, env, epoch, prefix)\u001b[0m\n\u001b[1;32m     29\u001b[0m \u001b[0;34m\u001b[0m\u001b[0m\n\u001b[1;32m     30\u001b[0m             \u001b[0;31m# Apply the reinforcement strategy\u001b[0m\u001b[0;34m\u001b[0m\u001b[0;34m\u001b[0m\u001b[0;34m\u001b[0m\u001b[0m\n\u001b[0;32m---> 31\u001b[0;31m             \u001b[0mloss\u001b[0m \u001b[0;34m=\u001b[0m \u001b[0magent\u001b[0m\u001b[0;34m.\u001b[0m\u001b[0mreinforce\u001b[0m\u001b[0;34m(\u001b[0m\u001b[0mprev_state\u001b[0m\u001b[0;34m,\u001b[0m \u001b[0mstate\u001b[0m\u001b[0;34m,\u001b[0m  \u001b[0maction\u001b[0m\u001b[0;34m,\u001b[0m \u001b[0mreward\u001b[0m\u001b[0;34m,\u001b[0m \u001b[0mgame_over\u001b[0m\u001b[0;34m)\u001b[0m\u001b[0;34m\u001b[0m\u001b[0;34m\u001b[0m\u001b[0m\n\u001b[0m\u001b[1;32m     32\u001b[0m \u001b[0;34m\u001b[0m\u001b[0m\n\u001b[1;32m     33\u001b[0m         \u001b[0;31m# Save as a mp4\u001b[0m\u001b[0;34m\u001b[0m\u001b[0;34m\u001b[0m\u001b[0;34m\u001b[0m\u001b[0m\n",
      "\u001b[0;32m<ipython-input-63-732873f27755>\u001b[0m in \u001b[0;36mreinforce\u001b[0;34m(self, s_, n_s_, a_, r_, game_over_)\u001b[0m\n\u001b[1;32m     37\u001b[0m                 \u001b[0mtarget_q\u001b[0m\u001b[0;34m[\u001b[0m\u001b[0mi\u001b[0m\u001b[0;34m]\u001b[0m\u001b[0;34m[\u001b[0m\u001b[0ma\u001b[0m\u001b[0;34m]\u001b[0m \u001b[0;34m=\u001b[0m \u001b[0mr\u001b[0m\u001b[0;34m\u001b[0m\u001b[0;34m\u001b[0m\u001b[0m\n\u001b[1;32m     38\u001b[0m             \u001b[0;32melse\u001b[0m\u001b[0;34m:\u001b[0m\u001b[0;34m\u001b[0m\u001b[0;34m\u001b[0m\u001b[0m\n\u001b[0;32m---> 39\u001b[0;31m                 \u001b[0mtarget_q\u001b[0m\u001b[0;34m[\u001b[0m\u001b[0mi\u001b[0m\u001b[0;34m]\u001b[0m\u001b[0;34m[\u001b[0m\u001b[0ma\u001b[0m\u001b[0;34m]\u001b[0m \u001b[0;34m=\u001b[0m \u001b[0mr\u001b[0m \u001b[0;34m+\u001b[0m \u001b[0mself\u001b[0m\u001b[0;34m.\u001b[0m\u001b[0mdiscount\u001b[0m\u001b[0;34m*\u001b[0m\u001b[0mnp\u001b[0m\u001b[0;34m.\u001b[0m\u001b[0mamax\u001b[0m\u001b[0;34m(\u001b[0m\u001b[0mself\u001b[0m\u001b[0;34m.\u001b[0m\u001b[0mmodel\u001b[0m\u001b[0;34m.\u001b[0m\u001b[0mpredict\u001b[0m\u001b[0;34m(\u001b[0m\u001b[0mnp\u001b[0m\u001b[0;34m.\u001b[0m\u001b[0mexpand_dims\u001b[0m\u001b[0;34m(\u001b[0m\u001b[0mn_s\u001b[0m\u001b[0;34m,\u001b[0m\u001b[0;36m0\u001b[0m\u001b[0;34m)\u001b[0m\u001b[0;34m)\u001b[0m\u001b[0;34m)\u001b[0m\u001b[0;34m\u001b[0m\u001b[0;34m\u001b[0m\u001b[0m\n\u001b[0m\u001b[1;32m     40\u001b[0m \u001b[0;34m\u001b[0m\u001b[0m\n\u001b[1;32m     41\u001b[0m \u001b[0;34m\u001b[0m\u001b[0m\n",
      "\u001b[0;32m~/anaconda3/envs/Py3/lib/python3.6/site-packages/keras/engine/training.py\u001b[0m in \u001b[0;36mpredict\u001b[0;34m(self, x, batch_size, verbose, steps)\u001b[0m\n\u001b[1;32m   1167\u001b[0m                                             \u001b[0mbatch_size\u001b[0m\u001b[0;34m=\u001b[0m\u001b[0mbatch_size\u001b[0m\u001b[0;34m,\u001b[0m\u001b[0;34m\u001b[0m\u001b[0;34m\u001b[0m\u001b[0m\n\u001b[1;32m   1168\u001b[0m                                             \u001b[0mverbose\u001b[0m\u001b[0;34m=\u001b[0m\u001b[0mverbose\u001b[0m\u001b[0;34m,\u001b[0m\u001b[0;34m\u001b[0m\u001b[0;34m\u001b[0m\u001b[0m\n\u001b[0;32m-> 1169\u001b[0;31m                                             steps=steps)\n\u001b[0m\u001b[1;32m   1170\u001b[0m \u001b[0;34m\u001b[0m\u001b[0m\n\u001b[1;32m   1171\u001b[0m     def train_on_batch(self, x, y,\n",
      "\u001b[0;32m~/anaconda3/envs/Py3/lib/python3.6/site-packages/keras/engine/training_arrays.py\u001b[0m in \u001b[0;36mpredict_loop\u001b[0;34m(model, f, ins, batch_size, verbose, steps)\u001b[0m\n\u001b[1;32m    292\u001b[0m                 \u001b[0mins_batch\u001b[0m\u001b[0;34m[\u001b[0m\u001b[0mi\u001b[0m\u001b[0;34m]\u001b[0m \u001b[0;34m=\u001b[0m \u001b[0mins_batch\u001b[0m\u001b[0;34m[\u001b[0m\u001b[0mi\u001b[0m\u001b[0;34m]\u001b[0m\u001b[0;34m.\u001b[0m\u001b[0mtoarray\u001b[0m\u001b[0;34m(\u001b[0m\u001b[0;34m)\u001b[0m\u001b[0;34m\u001b[0m\u001b[0;34m\u001b[0m\u001b[0m\n\u001b[1;32m    293\u001b[0m \u001b[0;34m\u001b[0m\u001b[0m\n\u001b[0;32m--> 294\u001b[0;31m             \u001b[0mbatch_outs\u001b[0m \u001b[0;34m=\u001b[0m \u001b[0mf\u001b[0m\u001b[0;34m(\u001b[0m\u001b[0mins_batch\u001b[0m\u001b[0;34m)\u001b[0m\u001b[0;34m\u001b[0m\u001b[0;34m\u001b[0m\u001b[0m\n\u001b[0m\u001b[1;32m    295\u001b[0m             \u001b[0mbatch_outs\u001b[0m \u001b[0;34m=\u001b[0m \u001b[0mto_list\u001b[0m\u001b[0;34m(\u001b[0m\u001b[0mbatch_outs\u001b[0m\u001b[0;34m)\u001b[0m\u001b[0;34m\u001b[0m\u001b[0;34m\u001b[0m\u001b[0m\n\u001b[1;32m    296\u001b[0m             \u001b[0;32mif\u001b[0m \u001b[0mbatch_index\u001b[0m \u001b[0;34m==\u001b[0m \u001b[0;36m0\u001b[0m\u001b[0;34m:\u001b[0m\u001b[0;34m\u001b[0m\u001b[0;34m\u001b[0m\u001b[0m\n",
      "\u001b[0;32m~/anaconda3/envs/Py3/lib/python3.6/site-packages/keras/backend/tensorflow_backend.py\u001b[0m in \u001b[0;36m__call__\u001b[0;34m(self, inputs)\u001b[0m\n\u001b[1;32m   2713\u001b[0m                 \u001b[0;32mreturn\u001b[0m \u001b[0mself\u001b[0m\u001b[0;34m.\u001b[0m\u001b[0m_legacy_call\u001b[0m\u001b[0;34m(\u001b[0m\u001b[0minputs\u001b[0m\u001b[0;34m)\u001b[0m\u001b[0;34m\u001b[0m\u001b[0;34m\u001b[0m\u001b[0m\n\u001b[1;32m   2714\u001b[0m \u001b[0;34m\u001b[0m\u001b[0m\n\u001b[0;32m-> 2715\u001b[0;31m             \u001b[0;32mreturn\u001b[0m \u001b[0mself\u001b[0m\u001b[0;34m.\u001b[0m\u001b[0m_call\u001b[0m\u001b[0;34m(\u001b[0m\u001b[0minputs\u001b[0m\u001b[0;34m)\u001b[0m\u001b[0;34m\u001b[0m\u001b[0;34m\u001b[0m\u001b[0m\n\u001b[0m\u001b[1;32m   2716\u001b[0m         \u001b[0;32melse\u001b[0m\u001b[0;34m:\u001b[0m\u001b[0;34m\u001b[0m\u001b[0;34m\u001b[0m\u001b[0m\n\u001b[1;32m   2717\u001b[0m             \u001b[0;32mif\u001b[0m \u001b[0mpy_any\u001b[0m\u001b[0;34m(\u001b[0m\u001b[0mis_tensor\u001b[0m\u001b[0;34m(\u001b[0m\u001b[0mx\u001b[0m\u001b[0;34m)\u001b[0m \u001b[0;32mfor\u001b[0m \u001b[0mx\u001b[0m \u001b[0;32min\u001b[0m \u001b[0minputs\u001b[0m\u001b[0;34m)\u001b[0m\u001b[0;34m:\u001b[0m\u001b[0;34m\u001b[0m\u001b[0;34m\u001b[0m\u001b[0m\n",
      "\u001b[0;32m~/anaconda3/envs/Py3/lib/python3.6/site-packages/keras/backend/tensorflow_backend.py\u001b[0m in \u001b[0;36m_call\u001b[0;34m(self, inputs)\u001b[0m\n\u001b[1;32m   2673\u001b[0m             \u001b[0mfetched\u001b[0m \u001b[0;34m=\u001b[0m \u001b[0mself\u001b[0m\u001b[0;34m.\u001b[0m\u001b[0m_callable_fn\u001b[0m\u001b[0;34m(\u001b[0m\u001b[0;34m*\u001b[0m\u001b[0marray_vals\u001b[0m\u001b[0;34m,\u001b[0m \u001b[0mrun_metadata\u001b[0m\u001b[0;34m=\u001b[0m\u001b[0mself\u001b[0m\u001b[0;34m.\u001b[0m\u001b[0mrun_metadata\u001b[0m\u001b[0;34m)\u001b[0m\u001b[0;34m\u001b[0m\u001b[0;34m\u001b[0m\u001b[0m\n\u001b[1;32m   2674\u001b[0m         \u001b[0;32melse\u001b[0m\u001b[0;34m:\u001b[0m\u001b[0;34m\u001b[0m\u001b[0;34m\u001b[0m\u001b[0m\n\u001b[0;32m-> 2675\u001b[0;31m             \u001b[0mfetched\u001b[0m \u001b[0;34m=\u001b[0m \u001b[0mself\u001b[0m\u001b[0;34m.\u001b[0m\u001b[0m_callable_fn\u001b[0m\u001b[0;34m(\u001b[0m\u001b[0;34m*\u001b[0m\u001b[0marray_vals\u001b[0m\u001b[0;34m)\u001b[0m\u001b[0;34m\u001b[0m\u001b[0;34m\u001b[0m\u001b[0m\n\u001b[0m\u001b[1;32m   2676\u001b[0m         \u001b[0;32mreturn\u001b[0m \u001b[0mfetched\u001b[0m\u001b[0;34m[\u001b[0m\u001b[0;34m:\u001b[0m\u001b[0mlen\u001b[0m\u001b[0;34m(\u001b[0m\u001b[0mself\u001b[0m\u001b[0;34m.\u001b[0m\u001b[0moutputs\u001b[0m\u001b[0;34m)\u001b[0m\u001b[0;34m]\u001b[0m\u001b[0;34m\u001b[0m\u001b[0;34m\u001b[0m\u001b[0m\n\u001b[1;32m   2677\u001b[0m \u001b[0;34m\u001b[0m\u001b[0m\n",
      "\u001b[0;32m~/anaconda3/envs/Py3/lib/python3.6/site-packages/tensorflow/python/client/session.py\u001b[0m in \u001b[0;36m__call__\u001b[0;34m(self, *args, **kwargs)\u001b[0m\n\u001b[1;32m   1437\u001b[0m           ret = tf_session.TF_SessionRunCallable(\n\u001b[1;32m   1438\u001b[0m               \u001b[0mself\u001b[0m\u001b[0;34m.\u001b[0m\u001b[0m_session\u001b[0m\u001b[0;34m.\u001b[0m\u001b[0m_session\u001b[0m\u001b[0;34m,\u001b[0m \u001b[0mself\u001b[0m\u001b[0;34m.\u001b[0m\u001b[0m_handle\u001b[0m\u001b[0;34m,\u001b[0m \u001b[0margs\u001b[0m\u001b[0;34m,\u001b[0m \u001b[0mstatus\u001b[0m\u001b[0;34m,\u001b[0m\u001b[0;34m\u001b[0m\u001b[0;34m\u001b[0m\u001b[0m\n\u001b[0;32m-> 1439\u001b[0;31m               run_metadata_ptr)\n\u001b[0m\u001b[1;32m   1440\u001b[0m         \u001b[0;32mif\u001b[0m \u001b[0mrun_metadata\u001b[0m\u001b[0;34m:\u001b[0m\u001b[0;34m\u001b[0m\u001b[0;34m\u001b[0m\u001b[0m\n\u001b[1;32m   1441\u001b[0m           \u001b[0mproto_data\u001b[0m \u001b[0;34m=\u001b[0m \u001b[0mtf_session\u001b[0m\u001b[0;34m.\u001b[0m\u001b[0mTF_GetBuffer\u001b[0m\u001b[0;34m(\u001b[0m\u001b[0mrun_metadata_ptr\u001b[0m\u001b[0;34m)\u001b[0m\u001b[0;34m\u001b[0m\u001b[0;34m\u001b[0m\u001b[0m\n",
      "\u001b[0;31mKeyboardInterrupt\u001b[0m: "
     ]
    }
   ],
   "source": [
    "temp_values = np.linspace(0.1,1,10)\n",
    "final_scores_FC = []\n",
    "final_scores_CNN = []\n",
    "epochs_test = 10\n",
    "epochs_train = 40\n",
    "for temp in tqdm.tqdm(temp_values):\n",
    "    env = Environment(grid_size=size, max_time=T,temperature=temp)\n",
    "    agent_cnn = DQN_CNN(size, lr=.1, epsilon = 0.1, memory_size=2000, batch_size = 32)\n",
    "    agent_fc = DQN_FC(size, lr=.1, epsilon = 0.1, memory_size=2000, batch_size = 32)\n",
    "    train(agent_cnn,env,epochs_train,prefix='cnn_train'+str(temp))\n",
    "    train(agent_fc,env,epochs_train,prefix='cnn_train'+str(temp))\n",
    "    final_scores_FC.append(test(agent_fc,env,epochs_test,prefix='fc'+str(temp)))\n",
    "    final_scores_CNN.append(test(agent_cnn,env,epochs_test,prefix='ccn'+str(temp)))\n",
    "    \n",
    "    "
   ]
  },
  {
   "cell_type": "code",
   "execution_count": 77,
   "metadata": {},
   "outputs": [
    {
     "data": {
      "text/plain": [
       "array([0.1, 0.2, 0.3, 0.4, 0.5, 0.6, 0.7, 0.8, 0.9, 1. ])"
      ]
     },
     "execution_count": 77,
     "metadata": {},
     "output_type": "execute_result"
    }
   ],
   "source": []
  },
  {
   "cell_type": "code",
   "execution_count": null,
   "metadata": {
    "collapsed": true
   },
   "outputs": [],
   "source": [
    "HTML(display_videos('cnn_test0.mp4'))"
   ]
  },
  {
   "cell_type": "code",
   "execution_count": null,
   "metadata": {
    "collapsed": true
   },
   "outputs": [],
   "source": [
    "HTML(display_videos('fc_test0.mp4'))"
   ]
  },
  {
   "cell_type": "markdown",
   "metadata": {},
   "source": [
    "# Answer 9\n",
    "\n",
    "We"
   ]
  },
  {
   "cell_type": "markdown",
   "metadata": {},
   "source": [
    "***\n",
    "\n",
    "The algorithm tends to not explore the map which can be an issue. We propose two ideas in order to encourage exploration:\n",
    "1. Incorporating a decreasing $\\epsilon$-greedy exploration. You can use the method ```set_epsilon```\n",
    "2. Append via the environment a new state that describes if a cell has been visited or not\n",
    "\n",
    "***\n",
    "__Question 10__ Design a new ```train_explore``` function and environment class ```EnvironmentExploring``` to tackle the issue of exploration.\n",
    "\n"
   ]
  },
  {
   "cell_type": "code",
   "execution_count": null,
   "metadata": {
    "collapsed": true
   },
   "outputs": [],
   "source": [
    "def train_explore(agent,env,epoch,prefix=''):\n",
    "    pass\n",
    "        \n",
    "class EnvironmentExploring(object):\n",
    "    def __init__(self, grid_size=10, max_time=500, temperature=0.1):\n",
    "        pass\n",
    "    \n",
    "## use those samples of code:\n",
    "#In train explore:\n",
    "state, reward, game_over = env.act(action, train=True)\n",
    "\n",
    "## In Environment exploring:\n",
    "# You will have to change n_state to 3 because you will use one more layer!\n",
    "reward = 0\n",
    "if train:\n",
    "    reward = -self.malus_position[self.x, self.y]\n",
    "self.malus_position[self.x, self.y] = 0.1\n",
    "\n",
    "reward = reward + self.board[self.x, self.y]\n",
    "# 3 \"feature\" states instead of 2\n",
    "state = np.concatenate((self.malus_position.reshape(self.grid_size, self.grid_size,1),\n",
    "                                self.board.reshape(self.grid_size, self.grid_size,1),\n",
    "                        self.position.reshape(self.grid_size, self.grid_size,1)),axis=2)"
   ]
  },
  {
   "cell_type": "code",
   "execution_count": null,
   "metadata": {
    "collapsed": true
   },
   "outputs": [],
   "source": [
    "# Training\n",
    "env = EnvironmentExploring(grid_size=size, max_time=T, temperature=0.3)\n",
    "agent = DQN_CNN(size, lr=.1, epsilon = 0.1, memory_size=2000, batch_size = 32,n_state=3)\n",
    "train_explore(agent, env, epochs_train, prefix='cnn_train_explore')\n",
    "HTML(display_videos('cnn_train_explore10.mp4'))"
   ]
  },
  {
   "cell_type": "code",
   "execution_count": null,
   "metadata": {
    "collapsed": true
   },
   "outputs": [],
   "source": [
    "# Evaluation\n",
    "test(agent,env,epochs_test,prefix='cnn_test_explore')\n",
    "HTML(display_videos('cnn_test_explore10.mp4'))"
   ]
  },
  {
   "cell_type": "code",
   "execution_count": 91,
   "metadata": {},
   "outputs": [],
   "source": []
  },
  {
   "cell_type": "markdown",
   "metadata": {},
   "source": [
    "***\n",
    "***\n",
    "__BONUS question__ Use the expert DQN from the previous question to generate some winning games. Train a model that mimicks its behavior. Compare the performances."
   ]
  },
  {
   "cell_type": "markdown",
   "metadata": {},
   "source": []
  },
  {
   "cell_type": "markdown",
   "metadata": {},
   "source": [
    "***"
   ]
  }
 ],
 "metadata": {
  "kernelspec": {
   "display_name": "Python 3",
   "language": "python",
   "name": "python3"
  },
  "language_info": {
   "codemirror_mode": {
    "name": "ipython",
    "version": 3
   },
   "file_extension": ".py",
   "mimetype": "text/x-python",
   "name": "python",
   "nbconvert_exporter": "python",
   "pygments_lexer": "ipython3",
   "version": "3.6.9"
  }
 },
 "nbformat": 4,
 "nbformat_minor": 2
}
